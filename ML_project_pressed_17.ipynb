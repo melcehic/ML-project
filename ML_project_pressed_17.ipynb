{
 "cells": [
  {
   "cell_type": "markdown",
   "metadata": {},
   "source": [
    "<div style=\"font-variant: small-caps; \n",
    "  font-weight: normal; \n",
    "  font-size: 37px; \n",
    "  text-align: center; \n",
    "  padding: 15px; \n",
    "  margin: 10px;\n",
    "  color: #ff69b4;\">\n",
    "  <span style=\"color: #ff69b4;\">Machine Learning Project</span>\n",
    "  </div> \n",
    "\n",
    "<div style=\"font-variant: small-caps; \n",
    "      font-weight: normal; \n",
    "      font-size: 35px; \n",
    "      text-align: center; \n",
    "      padding: 15px; \n",
    "      margin: 10px;\">\n",
    "  -<br>\n",
    "  </div> \n",
    "  \n",
    "<div style=\"font-variant: small-caps; \n",
    "      font-weight: normal; \n",
    "      font-size: 35px; \n",
    "      text-align: center; \n",
    "      padding: 15px;\n",
    "      color: #ff69b4;\n",
    "      margin: 10px;\">\n",
    "      The executive code<br><br>\n",
    "  </div> \n",
    "\n",
    "\n",
    "<div style=\"font-variant: small-caps; \n",
    "      font-weight: normal; \n",
    "      font-size: 20px; \n",
    "      text-align: center; \n",
    "      padding: 15px; \n",
    "      margin: 10px;\">\n",
    "      MC \n",
    "  </div>"
   ]
  },
  {
   "cell_type": "code",
   "execution_count": null,
   "metadata": {},
   "outputs": [],
   "source": [
    "%matplotlib inline\n",
    "\n",
    "import copy\n",
    "import np as np\n",
    "import pandas as pd\n",
    "import scipy\n",
    "import seaborn as sns\n",
    "import matplotlib.pyplot as plt\n",
    "\n",
    "from sklearn.ensemble import RandomForestClassifier\n",
    "from sklearn.calibration import CalibratedClassifierCV\n",
    "from sklearn.model_selection import  cross_val_score\n",
    "import joblib\n",
    "\n",
    "from maincode import *\n",
    "from eclyon.transforms import process_df, split_vals\n",
    "\n",
    "from sklearn.ensemble import RandomForestRegressor\n",
    "\n",
    "import math"
   ]
  },
  {
   "cell_type": "code",
   "execution_count": 30,
   "metadata": {},
   "outputs": [],
   "source": [
    "def metrics_result_n(y_true, y_pred):\n",
    "    acc = np.mean(y_true == y_pred)\n",
    "    rec = np.sum((y_true == 1) & (y_pred == 1)) / np.sum(y_true == 1)\n",
    "    prc = np.sum((y_true == 1) & (y_pred == 1)) / np.sum(y_pred == 1)\n",
    "    spe = np.sum((y_true == 0) & (y_pred == 0)) / np.sum(y_true == 0)\n",
    "    f1 = 2 * (prc * rec) / (prc + rec)\n",
    "\n",
    "    print('Accuracy : {:.2f}%'.format(acc * 100))\n",
    "    print('Recall : {:.2f}%'.format(rec * 100))\n",
    "    print('Precision : {:.2f}%'.format(prc * 100))\n",
    "    print('Specificity : {:.2f}%'.format(spe * 100))\n",
    "    print('F1-score : {:.2f}%'.format(f1 * 100))"
   ]
  },
  {
   "cell_type": "code",
   "execution_count": 3,
   "metadata": {},
   "outputs": [],
   "source": [
    "df_clean = pd.read_csv('c:/Users/Melissa/Bureau/Bsc 2/ML/BITCOIN/ML-project/data/processed/clean_df.csv')\n",
    "df_selected_17 = pd.read_csv('c:/Users/Melissa/Bureau/Bsc 2/ML/BITCOIN/ML-project/data/processed/selected_columns_17.csv')\n"
   ]
  },
  {
   "cell_type": "code",
   "execution_count": 5,
   "metadata": {},
   "outputs": [],
   "source": [
    "df = pd.merge(df_selected_17, df_clean[['close']], left_index=True, right_index=True)\n",
    "\n"
   ]
  },
  {
   "cell_type": "code",
   "execution_count": 6,
   "metadata": {},
   "outputs": [
    {
     "data": {
      "text/plain": [
       "0         0\n",
       "1         0\n",
       "2         1\n",
       "3         0\n",
       "4         1\n",
       "         ..\n",
       "416620    1\n",
       "416621    1\n",
       "416622    1\n",
       "416623    0\n",
       "416624    0\n",
       "Name: B-Evolution, Length: 416625, dtype: int64"
      ]
     },
     "execution_count": 6,
     "metadata": {},
     "output_type": "execute_result"
    }
   ],
   "source": [
    "# Calculate relative evolution\n",
    "df[\"Relative_Evolution\"] = df[\"Evolution\"] / df[\"close\"]\n",
    "\n",
    "# Calculate the moving average of the relative evolution\n",
    "df['R_E_5'] = df['Relative_Evolution'].rolling(window=5, min_periods=1).mean()\n",
    "\n",
    "\n",
    "# Transform R_E_5 in binary \n",
    "q25 = df[\"R_E_5\"].quantile(0.25)\n",
    "q75 = df[\"R_E_5\"].quantile(0.75)\n",
    "\n",
    "df[\"B-Evolution\"] = np.where(df[\"R_E_5\"] < q25, 0, np.where(df[\"R_E_5\"] > q75, 2, 1))\n",
    "\n",
    "\n",
    "df = df.drop(columns=['close'])\n",
    "\n",
    "df[\"B-Evolution\"]\n"
   ]
  },
  {
   "cell_type": "code",
   "execution_count": null,
   "metadata": {},
   "outputs": [
    {
     "data": {
      "image/png": "[encoded data removed]",
      "text/plain": [
       "<Figure size 640x480 with 1 Axes>"
      ]
     },
     "metadata": {},
     "output_type": "display_data"
    },
    {
     "name": "stdout",
     "output_type": "stream",
     "text": [
      "count    4.166250e+05\n",
      "mean     7.325554e-07\n",
      "std      5.002295e-04\n",
      "min     -2.792629e-02\n",
      "25%     -1.450952e-04\n",
      "50%      1.186004e-06\n",
      "75%      1.502093e-04\n",
      "max      3.151306e-02\n",
      "Name: R_E_5, dtype: float64\n"
     ]
    }
   ],
   "source": [
    "data = df[\"R_E_5\"]\n",
    "\n",
    "sns.histplot(data=data, kde=True)\n",
    "plt.xlim(-0.005, 0.005)\n",
    "plt.show()\n",
    "\n",
    "print(data.describe())\n",
    "\n"
   ]
  },
  {
   "cell_type": "markdown",
   "metadata": {},
   "source": [
    "# Settings"
   ]
  },
  {
   "cell_type": "code",
   "execution_count": 10,
   "metadata": {},
   "outputs": [],
   "source": [
    "df, y, nas = process_df(df, 'B-Evolution')"
   ]
  },
  {
   "cell_type": "code",
   "execution_count": 11,
   "metadata": {},
   "outputs": [
    {
     "name": "stdout",
     "output_type": "stream",
     "text": [
      "416625 374963 41662\n"
     ]
    }
   ],
   "source": [
    "n_total = len(df)\n",
    "# Calculate the number of validation samples\n",
    "n_valid = int(n_total * 0.1)\n",
    "\n",
    "# Calculate the number of training samples\n",
    "n_train = n_total - n_valid\n",
    "\n",
    "# Print the total number of samples, training samples, and validation samples\n",
    "print(n_total, n_train, n_valid)\n",
    "\n",
    "# Split the DataFrame into training and validation sets\n",
    "X_train, X_valid = split_vals(df, n_train)\n",
    "y_train, y_valid = split_vals(y, n_train)\n",
    "\n",
    "# Select the first 10,000 samples from the training set for X and y\n",
    "_, X_small = split_vals(X_train, n_train-10000)\n",
    "_, y_small = split_vals(y_train, n_train-10000)\n"
   ]
  },
  {
   "cell_type": "markdown",
   "metadata": {},
   "source": [
    "# Model\n"
   ]
  },
  {
   "cell_type": "code",
   "execution_count": 15,
   "metadata": {},
   "outputs": [],
   "source": [
    "classifier = RandomForestClassifier(\n",
    "    n_estimators = 20, \n",
    "    class_weight = None, # classifier specific\n",
    "    criterion = 'gini',  # classifier specific\n",
    "    max_depth = 5, \n",
    "    min_samples_split = 2, \n",
    "    min_samples_leaf = 1, \n",
    "    min_weight_fraction_leaf = 0.0, \n",
    "    max_features = None, \n",
    "    max_leaf_nodes = None, \n",
    "    min_impurity_decrease = 0.0, \n",
    "    ccp_alpha = 0.0, \n",
    "    random_state = 42, \n",
    "    bootstrap = True, \n",
    "    oob_score = True, \n",
    "    max_samples = None,\n",
    "    warm_start = False, \n",
    "    n_jobs = -1, \n",
    "    verbose = 0, \n",
    ")\n",
    "\n",
    "calibrated_classifier = CalibratedClassifierCV(\n",
    "    estimator = classifier,\n",
    "    method = 'sigmoid', # 'sigmoid' or 'isotonic'\n",
    "    ensemble = True,\n",
    "    cv = 5,\n",
    "    n_jobs = -1,\n",
    ")"
   ]
  },
  {
   "cell_type": "code",
   "execution_count": null,
   "metadata": {},
   "outputs": [],
   "source": [
    "calibrated_classifier.fit(X_train, y_train)\n",
    "\n",
    "y_predict_valid = calibrated_classifier.predict(X_valid)\n"
   ]
  },
  {
   "cell_type": "code",
   "execution_count": null,
   "metadata": {},
   "outputs": [
    {
     "name": "stdout",
     "output_type": "stream",
     "text": [
      "Accuracy : 94.18%\n",
      "Recall : 100.00%\n",
      "Precision : 91.90%\n",
      "Specificity : 83.60%\n",
      "F1-score : 95.78%\n"
     ]
    }
   ],
   "source": [
    "metrics_result_n(y_valid, y_predict_valid)"
   ]
  },
  {
   "cell_type": "code",
   "execution_count": 32,
   "metadata": {},
   "outputs": [
    {
     "name": "stdout",
     "output_type": "stream",
     "text": [
      "Cross-validation scores: [0.9932527  0.97557105 0.9610897  0.99203915 0.99199915]\n",
      "Mean cross-validation score: 0.982790351201572\n"
     ]
    }
   ],
   "source": [
    "cv_scores = cross_val_score(calibrated_classifier, X_train, y_train, cv=5, scoring='accuracy')\n",
    "\n",
    "print(f\"Cross-validation scores: {cv_scores}\")\n",
    "print(f\"Mean cross-validation score: {cv_scores.mean()}\")"
   ]
  },
  {
   "cell_type": "markdown",
   "metadata": {},
   "source": [
    "# Export"
   ]
  },
  {
   "cell_type": "code",
   "execution_count": null,
   "metadata": {},
   "outputs": [
    {
     "data": {
      "text/plain": [
       "['c:/Users/Melissa/Bureau/Bsc 2/ML/BITCOIN/ML-project/models/calibrated_classifier.pkl']"
      ]
     },
     "execution_count": 44,
     "metadata": {},
     "output_type": "execute_result"
    }
   ],
   "source": [
    "joblib.dump(calibrated_classifier, 'c:/Users/Melissa/Bureau/Bsc 2/ML/BITCOIN/ML-project/models/calibrated_classifier.pkl')"
   ]
  }
 ],
 "metadata": {
  "kernelspec": {
   "display_name": "ML-project",
   "language": "python",
   "name": "python3"
  },
  "language_info": {
   "codemirror_mode": {
    "name": "ipython",
    "version": 3
   },
   "file_extension": ".py",
   "mimetype": "text/x-python",
   "name": "python",
   "nbconvert_exporter": "python",
   "pygments_lexer": "ipython3",
   "version": "3.11.9"
  }
 },
 "nbformat": 4,
 "nbformat_minor": 2
}
