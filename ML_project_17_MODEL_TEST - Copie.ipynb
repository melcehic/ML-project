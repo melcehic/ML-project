{
 "cells": [
  {
   "cell_type": "markdown",
   "metadata": {},
   "source": [
    "<div style=\"font-variant: small-caps; \n",
    "  font-weight: normal; \n",
    "  font-size: 37px; \n",
    "  text-align: center; \n",
    "  padding: 15px; \n",
    "  margin: 10px;\n",
    "  color: #ff69b4;\">\n",
    "  <span style=\"color: #ff69b4;\">Machine Learning Project</span>\n",
    "  </div> \n",
    "\n",
    "<div style=\"font-variant: small-caps; \n",
    "      font-weight: normal; \n",
    "      font-size: 35px; \n",
    "      text-align: center; \n",
    "      padding: 15px; \n",
    "      margin: 10px;\">\n",
    "  -<br>\n",
    "  </div> \n",
    "  \n",
    "<div style=\"font-variant: small-caps; \n",
    "      font-weight: normal; \n",
    "      font-size: 35px; \n",
    "      text-align: center; \n",
    "      padding: 15px;\n",
    "      color: #ff69b4;\n",
    "      margin: 10px;\">\n",
    "      Selection of the best model <br><br>\n",
    "  </div> \n",
    "\n",
    "\n",
    "<div style=\"font-variant: small-caps; \n",
    "      font-weight: normal; \n",
    "      font-size: 20px; \n",
    "      text-align: center; \n",
    "      padding: 15px; \n",
    "      margin: 10px;\">\n",
    "      MC \n",
    "  </div>"
   ]
  },
  {
   "cell_type": "markdown",
   "metadata": {},
   "source": [
    "## Table of Contents\n",
    "1. [Final format of df](#final-format-of-df)\n",
    "2. [Settings](#settings)\n",
    "3. [RandomForestClassifier](#randomforestclassifier)\n",
    "4. [CalibratedClassifierCV](#calibratedclassifiercv)\n",
    "5. [DecisionTreeClassifier](#decisiontreeclassifier)\n",
    "6. [Calibrated_tree_classifier](#calibrated_tree_classifier)\n",
    "7. [Logistic Regression](#logistic-regression)\n",
    "8. [Calibred Logistic Regression](#calibred-logistic-regression)\n",
    "\n"
   ]
  },
  {
   "cell_type": "code",
   "execution_count": 2,
   "metadata": {},
   "outputs": [],
   "source": [
    "import numpy as np\n",
    "import pandas as pd\n",
    "import matplotlib.pyplot as plt\n",
    "\n",
    "\n",
    "from sklearn.tree import DecisionTreeClassifier, plot_tree\n",
    "from sklearn.ensemble import RandomForestClassifier, RandomForestRegressor\n",
    "from sklearn.linear_model import LogisticRegression, LinearRegression\n",
    "from sklearn import metrics\n",
    "from sklearn.preprocessing import LabelEncoder\n",
    "from sklearn.calibration import CalibratedClassifierCV\n",
    "from sklearn.model_selection import train_test_split, cross_val_score, GridSearchCV\n",
    "\n",
    "\n",
    "from maincode.custom_functions import *\n",
    "from eclyon.transforms import process_df, split_vals\n",
    "\n",
    "import math\n"
   ]
  },
  {
   "cell_type": "code",
   "execution_count": 2,
   "metadata": {},
   "outputs": [],
   "source": [
    "def metrics_result(y_true, y_pred):\n",
    "    acc = np.mean(y_true == y_pred)\n",
    "    rec = np.sum((y_true == 1) & (y_pred == 1)) / np.sum(y_true == 1)\n",
    "    prc = np.sum((y_true == 1) & (y_pred == 1)) / np.sum(y_pred == 1)\n",
    "    spe = np.sum((y_true == 0) & (y_pred == 0)) / np.sum(y_true == 0)\n",
    "    f1 = 2 * (prc * rec) / (prc + rec)\n",
    "\n",
    "    print('Accuracy : {:.2f}%'.format(acc * 100))\n",
    "    print('Recall : {:.2f}%'.format(rec * 100))\n",
    "    print('Precision : {:.2f}%'.format(prc * 100))\n",
    "    print('Specificity : {:.2f}%'.format(spe * 100))\n",
    "    print('F1-score : {:.2f}%'.format(f1 * 100))\n",
    "\n",
    "def precision_recall_curve_with_threshold(targets, probas, threshold = 0.5):\n",
    "    \n",
    "    def sort_pair(X, Y):\n",
    "        rangee = [(x, y) for x, y in sorted(zip(X, Y), key = lambda pair: pair[0])]\n",
    "        return [pair[0] for pair in rangee], [pair[1] for pair in rangee]\n",
    "    \n",
    "    def precision_recall_curve(targets, probas):\n",
    "        thresholds = sorted(set(probas), reverse=True)\n",
    "        precision = []\n",
    "        recall = []\n",
    "        for t in thresholds:\n",
    "            tp = sum((p >= t) and (tgt == 1) for p, tgt in zip(probas, targets))\n",
    "            fp = sum((p >= t) and (tgt == 0) for p, tgt in zip(probas, targets))\n",
    "            fn = sum((p < t) and (tgt == 1) for p, tgt in zip(probas, targets))\n",
    "            precision.append(tp / (tp + fp) if (tp + fp) > 0 else 0)\n",
    "            recall.append(tp / (tp + fn) if (tp + fn) > 0 else 0)\n",
    "        return precision, recall, thresholds\n",
    "    \n",
    "    def auc(x, y):\n",
    "        return sum((x[i] - x[i-1]) * (y[i] + y[i-1]) / 2 for i in range(1, len(x)))\n",
    "    \n",
    "    # --- main\n",
    "    targets, probas = sort_pair(targets, probas)\n",
    "    precision, recall, thresholds = precision_recall_curve(targets, probas)\n",
    "    \n",
    "    # calculate precision-recall AUC\n",
    "    auc_val = auc(recall, precision)\n",
    "    print('Area Under Curve (AUC) : {:.3f}'.format(auc_val))\n",
    "    # plot no skill\n",
    "    if threshold is not None : \n",
    "        index = len([y for y in thresholds if y <= threshold]) # thresholds are sorted\n",
    "\n",
    "        print('Recall with threshold = {}: {:.2f}%'.format(threshold, recall[index]*100))\n",
    "        print('Precision with threshold = {} : {:.2f}%'.format(threshold, precision[index]*100))\n",
    "\n",
    "        plt.plot([0, 1], [precision[index], precision[index]], linestyle='--', color = 'grey')\n",
    "        plt.plot([recall[index], recall[index]], [0, 1], linestyle='--', color = 'grey')\n",
    "        \n",
    "        # plot the precision-recall curve for the model\n",
    "        plt.plot(recall[:index], precision[:index], color = 'navy', marker='.')\n",
    "        plt.plot(recall[index:], precision[index:], color = 'orange', marker='.')\n",
    "        \n",
    "        # show the plot\n",
    "        plt.title('Precision-Recall curve with threshold = {}'.format(threshold))\n",
    "        plt.xlabel('Recall $P(\\, \\widehat{1}\\, | 1)$')\n",
    "        plt.ylabel('Precision $P(\\, 1\\, | \\widehat{1})$                                ', rotation = 'horizontal')\n",
    "    else :\n",
    "        # plot the precision-recall curve for the model\n",
    "        plt.plot(recall, precision, color = 'orange', marker='.')\n",
    "        \n",
    "        # show the plot\n",
    "        plt.title('Precision-Recall curve')\n",
    "        plt.xlabel('Recall $P(\\, \\widehat{1}\\, | 1)$')\n",
    "        plt.ylabel('Precision $P(\\, 1\\, | \\widehat{1})$                                ', rotation = 'horizontal')\n",
    "\n",
    "    plt.show()\n",
    "    return\n",
    "\n",
    "def rmse(y_gold, y_train): \n",
    "    return math.sqrt(((y_gold - y_train)**2).mean())\n",
    "\n",
    "\n",
    "def print_score(m, X_train, y_train, X_valid, y_valid):\n",
    "    print('RMSE on train set: {:.4f}'.format(rmse(m.predict(X_train), y_train)))\n",
    "    print('RMSE on valid set: {:.4f}'.format(rmse(m.predict(X_valid), y_valid)))\n",
    "    print('R^2 on train set: {:.4f}'.format(m.score(X_train, y_train)))\n",
    "    print('R^2 on valid set: {:.4f}'.format(m.score(X_valid, y_valid)))\n",
    "    if hasattr(m, 'oob_score_'): print('R^2 on oob set: {:.4f}'.format(m.oob_score_))\n",
    "    return\n",
    "\n",
    "\n",
    "def specificity_score(y_valid, y_train):\n",
    "    y_predict_0  = [(pred, true) for pred, true in zip(y_train, y_valid) if true == 0]\n",
    "    y_predict_00 = [(pred, true) for pred, true in y_predict_0 if pred == 0]\n",
    "    specificity  = (0 if len(y_predict_0) == 0 else len(y_predict_00)/len(y_predict_0))\n",
    "    return specificity\n",
    "\n",
    "def metrics_results(y_true, y_predict_valid):\n",
    "    acc = metrics.accuracy_score(y_true, y_predict_valid)\n",
    "    rec = metrics.recall_score(y_true, y_predict_valid)\n",
    "    prc = metrics.precision_score(y_true, y_predict_valid)\n",
    "    spe = specificity_score(y_true, y_predict_valid)\n",
    "    f1  = metrics.f1_score(y_true, y_predict_valid)\n",
    "\n",
    "    print('Accuracy : {:.2f}%'.format(acc*100))\n",
    "    print('Recall : {:.2f}%'.format(rec*100))\n",
    "    print('Precision : {:.2f}%'.format(prc*100))\n",
    "    print('Specificity : {:.2f}%'.format(spe*100))\n",
    "    print('F1-score : {:.2f}%'.format(f1*100))\n",
    "\n",
    "    \n"
   ]
  },
  {
   "cell_type": "markdown",
   "metadata": {},
   "source": [
    "# Final format of df "
   ]
  },
  {
   "cell_type": "code",
   "execution_count": 3,
   "metadata": {},
   "outputs": [],
   "source": [
    "df_clean = pd.read_csv('c:/Users/Melissa/Bureau/Bsc 2/ML/BITCOIN/ML-project/data/processed/clean_df.csv')\n",
    "df_selected_17 = pd.read_csv('c:/Users/Melissa/Bureau/Bsc 2/ML/BITCOIN/ML-project/data/processed/selected_columns_17.csv')\n"
   ]
  },
  {
   "cell_type": "code",
   "execution_count": 4,
   "metadata": {},
   "outputs": [],
   "source": [
    "df = pd.merge(df_selected_17, df_clean[['close']], left_index=True, right_index=True)\n",
    "\n"
   ]
  },
  {
   "cell_type": "code",
   "execution_count": 5,
   "metadata": {},
   "outputs": [
    {
     "data": {
      "text/plain": [
       "0         0\n",
       "1         0\n",
       "2         1\n",
       "3         0\n",
       "4         1\n",
       "         ..\n",
       "416620    1\n",
       "416621    1\n",
       "416622    1\n",
       "416623    0\n",
       "416624    0\n",
       "Name: B-Evolution, Length: 416625, dtype: int64"
      ]
     },
     "execution_count": 5,
     "metadata": {},
     "output_type": "execute_result"
    }
   ],
   "source": [
    "# Calculate relative evolution\n",
    "df[\"Relative_Evolution\"] = df[\"Evolution\"] / df[\"close\"]\n",
    "\n",
    "# Calculate the moving average of the relative evolution\n",
    "df['R_E_5'] = df['Relative_Evolution'].rolling(window=5, min_periods=1).mean()\n",
    "\n",
    "# Transform R_E_5 in binary \n",
    "q25 = df[\"R_E_5\"].quantile(0.25)\n",
    "q75 = df[\"R_E_5\"].quantile(0.75)\n",
    "\n",
    "df[\"B-Evolution\"] = np.where(df[\"R_E_5\"] < q25, 0, np.where(df[\"R_E_5\"] > q75, 2, 1))\n",
    "\n",
    "\n",
    "df = df.drop(columns=['close'])\n",
    "\n",
    "df[\"B-Evolution\"]\n"
   ]
  },
  {
   "cell_type": "markdown",
   "metadata": {},
   "source": [
    "# Settings"
   ]
  },
  {
   "cell_type": "code",
   "execution_count": 6,
   "metadata": {},
   "outputs": [],
   "source": [
    "df, y, nas = process_df(df, 'B-Evolution')"
   ]
  },
  {
   "cell_type": "code",
   "execution_count": 7,
   "metadata": {},
   "outputs": [
    {
     "name": "stdout",
     "output_type": "stream",
     "text": [
      "416625 374963 41662\n"
     ]
    }
   ],
   "source": [
    "n_total = len(df)\n",
    "# Calculate the number of validation samples\n",
    "n_valid = int(n_total * 0.1)\n",
    "\n",
    "# Calculate the number of training samples\n",
    "n_train = n_total - n_valid\n",
    "\n",
    "# Print the total number of samples, training samples, and validation samples\n",
    "print(n_total, n_train, n_valid)\n",
    "\n",
    "# Split the DataFrame into training and validation sets\n",
    "X_train, X_valid = split_vals(df, n_train)\n",
    "y_train, y_valid = split_vals(y, n_train)\n",
    "\n",
    "# Select the first 10,000 samples from the training set for X and y\n",
    "_, X_small = split_vals(X_train, n_train-10000)\n",
    "_, y_small = split_vals(y_train, n_train-10000)\n"
   ]
  },
  {
   "cell_type": "markdown",
   "metadata": {},
   "source": [
    "# RandomForestClassifier"
   ]
  },
  {
   "cell_type": "code",
   "execution_count": 26,
   "metadata": {},
   "outputs": [],
   "source": [
    "classifier = RandomForestClassifier(\n",
    "    n_estimators = 20, \n",
    "    class_weight = None, # classifier specific\n",
    "    criterion = 'gini',  # classifier specific\n",
    "    max_depth = 5, \n",
    "    min_samples_split = 2, \n",
    "    min_samples_leaf = 1, \n",
    "    min_weight_fraction_leaf = 0.0, \n",
    "    max_features = None, \n",
    "    max_leaf_nodes = None, \n",
    "    min_impurity_decrease = 0.0, \n",
    "    ccp_alpha = 0.0, \n",
    "    random_state = 42, \n",
    "    bootstrap = True, \n",
    "    oob_score = True, \n",
    "    max_samples = None,\n",
    "    warm_start = False, \n",
    "    n_jobs = -1, \n",
    "    verbose = 0, \n",
    ")"
   ]
  },
  {
   "cell_type": "code",
   "execution_count": 28,
   "metadata": {},
   "outputs": [
    {
     "name": "stderr",
     "output_type": "stream",
     "text": [
      "c:\\Users\\Melissa\\anaconda3\\3\\envs\\ML-project\\Lib\\site-packages\\sklearn\\ensemble\\_forest.py:615: UserWarning: Some inputs do not have OOB scores. This probably means too few trees were used to compute any reliable OOB estimates.\n",
      "  warn(\n"
     ]
    },
    {
     "name": "stdout",
     "output_type": "stream",
     "text": [
      "the precision on the traning set is 0.779738267509061\n",
      "the precision on the valid set is 0.834933512553406\n"
     ]
    }
   ],
   "source": [
    "classifier.fit(X_train, y_train)\n",
    "print(f\"the precision on the traning set is {classifier.score(X_train, y_train)}\")\n",
    "print(f\"the precision on the valid set is {classifier.score(X_valid, y_valid)}\")"
   ]
  },
  {
   "cell_type": "code",
   "execution_count": 29,
   "metadata": {},
   "outputs": [
    {
     "name": "stdout",
     "output_type": "stream",
     "text": [
      "Accuracy : 83.49%\n",
      "Recall : 100.00%\n",
      "Precision : 80.00%\n",
      "Specificity : 51.98%\n",
      "F1-score : 88.89%\n"
     ]
    }
   ],
   "source": [
    "y_predict_valid = classifier.predict(X_valid)\n",
    "\n",
    "\n",
    "RFC = metrics_result(y_valid,y_predict_valid) "
   ]
  },
  {
   "cell_type": "markdown",
   "metadata": {},
   "source": [
    "# Calibrated classifier"
   ]
  },
  {
   "cell_type": "code",
   "execution_count": 30,
   "metadata": {},
   "outputs": [],
   "source": [
    "calibrated_classifier = CalibratedClassifierCV(\n",
    "    estimator = classifier,\n",
    "    method = 'sigmoid', # 'sigmoid' or 'isotonic'\n",
    "    ensemble = True,\n",
    "    cv = 5,\n",
    "    n_jobs = -1,\n",
    ")"
   ]
  },
  {
   "cell_type": "code",
   "execution_count": 31,
   "metadata": {},
   "outputs": [
    {
     "name": "stdout",
     "output_type": "stream",
     "text": [
      "Accuracy : 94.18%\n",
      "Recall : 100.00%\n",
      "Precision : 91.90%\n",
      "Specificity : 83.60%\n",
      "F1-score : 95.78%\n"
     ]
    }
   ],
   "source": [
    "calibrated_classifier.fit(X_train, y_train)\n",
    "\n",
    "y_predict_valid = calibrated_classifier.predict(X_valid)\n",
    "metrics_result(y_valid, y_predict_valid)"
   ]
  },
  {
   "cell_type": "code",
   "execution_count": 32,
   "metadata": {},
   "outputs": [
    {
     "name": "stdout",
     "output_type": "stream",
     "text": [
      "Cross-validation scores: [0.9932527  0.97557105 0.9610897  0.99203915 0.99199915]\n",
      "Mean cross-validation score: 0.982790351201572\n"
     ]
    }
   ],
   "source": [
    "# Use cross-validation to check if calibrated_classifier is overfitting\n",
    "cv_scores = cross_val_score(calibrated_classifier, X_train, y_train, cv=5, scoring='accuracy')\n",
    "\n",
    "print(f\"Cross-validation scores: {cv_scores}\")\n",
    "print(f\"Mean cross-validation score: {cv_scores.mean()}\")"
   ]
  },
  {
   "cell_type": "markdown",
   "metadata": {},
   "source": [
    "# DecisionTreeClassifier"
   ]
  },
  {
   "cell_type": "code",
   "execution_count": 13,
   "metadata": {},
   "outputs": [],
   "source": [
    "tree_classifier = DecisionTreeClassifier(\n",
    "    class_weight = None, # specific to classifiers\n",
    "    criterion = 'gini',  # specific to classifiers\n",
    "    splitter = 'best', \n",
    "    max_depth = 5, \n",
    "    min_samples_split = 2, \n",
    "    min_samples_leaf = 1, \n",
    "    min_weight_fraction_leaf = 0.0, \n",
    "    max_features = None, \n",
    "    max_leaf_nodes = None, \n",
    "    min_impurity_decrease = 0.0, \n",
    "    ccp_alpha = 0.0,\n",
    "    random_state = None, \n",
    ")\n",
    "\n"
   ]
  },
  {
   "cell_type": "code",
   "execution_count": 14,
   "metadata": {},
   "outputs": [
    {
     "name": "stdout",
     "output_type": "stream",
     "text": [
      "Accuracy : 75.86%\n",
      "Recall : 99.42%\n",
      "Precision : 73.42%\n",
      "Specificity : 32.53%\n",
      "F1-score : 84.47%\n"
     ]
    }
   ],
   "source": [
    "tree_classifier.fit(X_train, y_train)\n",
    "\n",
    "y_predict_valid = tree_classifier.predict(X_valid)\n",
    "metrics_result(y_valid, y_predict_valid)"
   ]
  },
  {
   "cell_type": "markdown",
   "metadata": {},
   "source": [
    "## Calibrated_tree_classifier"
   ]
  },
  {
   "cell_type": "code",
   "execution_count": 15,
   "metadata": {},
   "outputs": [],
   "source": [
    "calibrated_tree_classifier = CalibratedClassifierCV(\n",
    "    estimator = tree_classifier,\n",
    "    method = 'sigmoid', # 'sigmoid' or 'isotonic'\n",
    "    ensemble = True,\n",
    "    cv = 5,\n",
    "    n_jobs = -1,\n",
    ")"
   ]
  },
  {
   "cell_type": "code",
   "execution_count": 16,
   "metadata": {},
   "outputs": [
    {
     "name": "stdout",
     "output_type": "stream",
     "text": [
      "Accuracy : 74.39%\n",
      "Recall : 100.00%\n",
      "Precision : 72.05%\n",
      "Specificity : 23.31%\n",
      "F1-score : 83.76%\n"
     ]
    }
   ],
   "source": [
    "calibrated_tree_classifier.fit(X_train, y_train)\n",
    "\n",
    "y_predict_valid = calibrated_classifier.predict(X_valid)\n",
    "metrics_result(y_valid, y_predict_valid)"
   ]
  },
  {
   "cell_type": "markdown",
   "metadata": {},
   "source": [
    "# Logistic Regression"
   ]
  },
  {
   "cell_type": "code",
   "execution_count": 22,
   "metadata": {},
   "outputs": [
    {
     "name": "stderr",
     "output_type": "stream",
     "text": [
      "c:\\Users\\Melissa\\anaconda3\\3\\envs\\ML-project\\Lib\\site-packages\\sklearn\\linear_model\\_logistic.py:469: ConvergenceWarning: lbfgs failed to converge (status=1):\n",
      "STOP: TOTAL NO. of ITERATIONS REACHED LIMIT.\n",
      "\n",
      "Increase the number of iterations (max_iter) or scale the data as shown in:\n",
      "    https://scikit-learn.org/stable/modules/preprocessing.html\n",
      "Please also refer to the documentation for alternative solver options:\n",
      "    https://scikit-learn.org/stable/modules/linear_model.html#logistic-regression\n",
      "  n_iter_i = _check_optimize_result(\n"
     ]
    },
    {
     "data": {
      "text/html": [
       "<style>#sk-container-id-2 {\n",
       "  /* Definition of color scheme common for light and dark mode */\n",
       "  --sklearn-color-text: black;\n",
       "  --sklearn-color-line: gray;\n",
       "  /* Definition of color scheme for unfitted estimators */\n",
       "  --sklearn-color-unfitted-level-0: #fff5e6;\n",
       "  --sklearn-color-unfitted-level-1: #f6e4d2;\n",
       "  --sklearn-color-unfitted-level-2: #ffe0b3;\n",
       "  --sklearn-color-unfitted-level-3: chocolate;\n",
       "  /* Definition of color scheme for fitted estimators */\n",
       "  --sklearn-color-fitted-level-0: #f0f8ff;\n",
       "  --sklearn-color-fitted-level-1: #d4ebff;\n",
       "  --sklearn-color-fitted-level-2: #b3dbfd;\n",
       "  --sklearn-color-fitted-level-3: cornflowerblue;\n",
       "\n",
       "  /* Specific color for light theme */\n",
       "  --sklearn-color-text-on-default-background: var(--sg-text-color, var(--theme-code-foreground, var(--jp-content-font-color1, black)));\n",
       "  --sklearn-color-background: var(--sg-background-color, var(--theme-background, var(--jp-layout-color0, white)));\n",
       "  --sklearn-color-border-box: var(--sg-text-color, var(--theme-code-foreground, var(--jp-content-font-color1, black)));\n",
       "  --sklearn-color-icon: #696969;\n",
       "\n",
       "  @media (prefers-color-scheme: dark) {\n",
       "    /* Redefinition of color scheme for dark theme */\n",
       "    --sklearn-color-text-on-default-background: var(--sg-text-color, var(--theme-code-foreground, var(--jp-content-font-color1, white)));\n",
       "    --sklearn-color-background: var(--sg-background-color, var(--theme-background, var(--jp-layout-color0, #111)));\n",
       "    --sklearn-color-border-box: var(--sg-text-color, var(--theme-code-foreground, var(--jp-content-font-color1, white)));\n",
       "    --sklearn-color-icon: #878787;\n",
       "  }\n",
       "}\n",
       "\n",
       "#sk-container-id-2 {\n",
       "  color: var(--sklearn-color-text);\n",
       "}\n",
       "\n",
       "#sk-container-id-2 pre {\n",
       "  padding: 0;\n",
       "}\n",
       "\n",
       "#sk-container-id-2 input.sk-hidden--visually {\n",
       "  border: 0;\n",
       "  clip: rect(1px 1px 1px 1px);\n",
       "  clip: rect(1px, 1px, 1px, 1px);\n",
       "  height: 1px;\n",
       "  margin: -1px;\n",
       "  overflow: hidden;\n",
       "  padding: 0;\n",
       "  position: absolute;\n",
       "  width: 1px;\n",
       "}\n",
       "\n",
       "#sk-container-id-2 div.sk-dashed-wrapped {\n",
       "  border: 1px dashed var(--sklearn-color-line);\n",
       "  margin: 0 0.4em 0.5em 0.4em;\n",
       "  box-sizing: border-box;\n",
       "  padding-bottom: 0.4em;\n",
       "  background-color: var(--sklearn-color-background);\n",
       "}\n",
       "\n",
       "#sk-container-id-2 div.sk-container {\n",
       "  /* jupyter's `normalize.less` sets `[hidden] { display: none; }`\n",
       "     but bootstrap.min.css set `[hidden] { display: none !important; }`\n",
       "     so we also need the `!important` here to be able to override the\n",
       "     default hidden behavior on the sphinx rendered scikit-learn.org.\n",
       "     See: https://github.com/scikit-learn/scikit-learn/issues/21755 */\n",
       "  display: inline-block !important;\n",
       "  position: relative;\n",
       "}\n",
       "\n",
       "#sk-container-id-2 div.sk-text-repr-fallback {\n",
       "  display: none;\n",
       "}\n",
       "\n",
       "div.sk-parallel-item,\n",
       "div.sk-serial,\n",
       "div.sk-item {\n",
       "  /* draw centered vertical line to link estimators */\n",
       "  background-image: linear-gradient(var(--sklearn-color-text-on-default-background), var(--sklearn-color-text-on-default-background));\n",
       "  background-size: 2px 100%;\n",
       "  background-repeat: no-repeat;\n",
       "  background-position: center center;\n",
       "}\n",
       "\n",
       "/* Parallel-specific style estimator block */\n",
       "\n",
       "#sk-container-id-2 div.sk-parallel-item::after {\n",
       "  content: \"\";\n",
       "  width: 100%;\n",
       "  border-bottom: 2px solid var(--sklearn-color-text-on-default-background);\n",
       "  flex-grow: 1;\n",
       "}\n",
       "\n",
       "#sk-container-id-2 div.sk-parallel {\n",
       "  display: flex;\n",
       "  align-items: stretch;\n",
       "  justify-content: center;\n",
       "  background-color: var(--sklearn-color-background);\n",
       "  position: relative;\n",
       "}\n",
       "\n",
       "#sk-container-id-2 div.sk-parallel-item {\n",
       "  display: flex;\n",
       "  flex-direction: column;\n",
       "}\n",
       "\n",
       "#sk-container-id-2 div.sk-parallel-item:first-child::after {\n",
       "  align-self: flex-end;\n",
       "  width: 50%;\n",
       "}\n",
       "\n",
       "#sk-container-id-2 div.sk-parallel-item:last-child::after {\n",
       "  align-self: flex-start;\n",
       "  width: 50%;\n",
       "}\n",
       "\n",
       "#sk-container-id-2 div.sk-parallel-item:only-child::after {\n",
       "  width: 0;\n",
       "}\n",
       "\n",
       "/* Serial-specific style estimator block */\n",
       "\n",
       "#sk-container-id-2 div.sk-serial {\n",
       "  display: flex;\n",
       "  flex-direction: column;\n",
       "  align-items: center;\n",
       "  background-color: var(--sklearn-color-background);\n",
       "  padding-right: 1em;\n",
       "  padding-left: 1em;\n",
       "}\n",
       "\n",
       "\n",
       "/* Toggleable style: style used for estimator/Pipeline/ColumnTransformer box that is\n",
       "clickable and can be expanded/collapsed.\n",
       "- Pipeline and ColumnTransformer use this feature and define the default style\n",
       "- Estimators will overwrite some part of the style using the `sk-estimator` class\n",
       "*/\n",
       "\n",
       "/* Pipeline and ColumnTransformer style (default) */\n",
       "\n",
       "#sk-container-id-2 div.sk-toggleable {\n",
       "  /* Default theme specific background. It is overwritten whether we have a\n",
       "  specific estimator or a Pipeline/ColumnTransformer */\n",
       "  background-color: var(--sklearn-color-background);\n",
       "}\n",
       "\n",
       "/* Toggleable label */\n",
       "#sk-container-id-2 label.sk-toggleable__label {\n",
       "  cursor: pointer;\n",
       "  display: block;\n",
       "  width: 100%;\n",
       "  margin-bottom: 0;\n",
       "  padding: 0.5em;\n",
       "  box-sizing: border-box;\n",
       "  text-align: center;\n",
       "}\n",
       "\n",
       "#sk-container-id-2 label.sk-toggleable__label-arrow:before {\n",
       "  /* Arrow on the left of the label */\n",
       "  content: \"▸\";\n",
       "  float: left;\n",
       "  margin-right: 0.25em;\n",
       "  color: var(--sklearn-color-icon);\n",
       "}\n",
       "\n",
       "#sk-container-id-2 label.sk-toggleable__label-arrow:hover:before {\n",
       "  color: var(--sklearn-color-text);\n",
       "}\n",
       "\n",
       "/* Toggleable content - dropdown */\n",
       "\n",
       "#sk-container-id-2 div.sk-toggleable__content {\n",
       "  max-height: 0;\n",
       "  max-width: 0;\n",
       "  overflow: hidden;\n",
       "  text-align: left;\n",
       "  /* unfitted */\n",
       "  background-color: var(--sklearn-color-unfitted-level-0);\n",
       "}\n",
       "\n",
       "#sk-container-id-2 div.sk-toggleable__content.fitted {\n",
       "  /* fitted */\n",
       "  background-color: var(--sklearn-color-fitted-level-0);\n",
       "}\n",
       "\n",
       "#sk-container-id-2 div.sk-toggleable__content pre {\n",
       "  margin: 0.2em;\n",
       "  border-radius: 0.25em;\n",
       "  color: var(--sklearn-color-text);\n",
       "  /* unfitted */\n",
       "  background-color: var(--sklearn-color-unfitted-level-0);\n",
       "}\n",
       "\n",
       "#sk-container-id-2 div.sk-toggleable__content.fitted pre {\n",
       "  /* unfitted */\n",
       "  background-color: var(--sklearn-color-fitted-level-0);\n",
       "}\n",
       "\n",
       "#sk-container-id-2 input.sk-toggleable__control:checked~div.sk-toggleable__content {\n",
       "  /* Expand drop-down */\n",
       "  max-height: 200px;\n",
       "  max-width: 100%;\n",
       "  overflow: auto;\n",
       "}\n",
       "\n",
       "#sk-container-id-2 input.sk-toggleable__control:checked~label.sk-toggleable__label-arrow:before {\n",
       "  content: \"▾\";\n",
       "}\n",
       "\n",
       "/* Pipeline/ColumnTransformer-specific style */\n",
       "\n",
       "#sk-container-id-2 div.sk-label input.sk-toggleable__control:checked~label.sk-toggleable__label {\n",
       "  color: var(--sklearn-color-text);\n",
       "  background-color: var(--sklearn-color-unfitted-level-2);\n",
       "}\n",
       "\n",
       "#sk-container-id-2 div.sk-label.fitted input.sk-toggleable__control:checked~label.sk-toggleable__label {\n",
       "  background-color: var(--sklearn-color-fitted-level-2);\n",
       "}\n",
       "\n",
       "/* Estimator-specific style */\n",
       "\n",
       "/* Colorize estimator box */\n",
       "#sk-container-id-2 div.sk-estimator input.sk-toggleable__control:checked~label.sk-toggleable__label {\n",
       "  /* unfitted */\n",
       "  background-color: var(--sklearn-color-unfitted-level-2);\n",
       "}\n",
       "\n",
       "#sk-container-id-2 div.sk-estimator.fitted input.sk-toggleable__control:checked~label.sk-toggleable__label {\n",
       "  /* fitted */\n",
       "  background-color: var(--sklearn-color-fitted-level-2);\n",
       "}\n",
       "\n",
       "#sk-container-id-2 div.sk-label label.sk-toggleable__label,\n",
       "#sk-container-id-2 div.sk-label label {\n",
       "  /* The background is the default theme color */\n",
       "  color: var(--sklearn-color-text-on-default-background);\n",
       "}\n",
       "\n",
       "/* On hover, darken the color of the background */\n",
       "#sk-container-id-2 div.sk-label:hover label.sk-toggleable__label {\n",
       "  color: var(--sklearn-color-text);\n",
       "  background-color: var(--sklearn-color-unfitted-level-2);\n",
       "}\n",
       "\n",
       "/* Label box, darken color on hover, fitted */\n",
       "#sk-container-id-2 div.sk-label.fitted:hover label.sk-toggleable__label.fitted {\n",
       "  color: var(--sklearn-color-text);\n",
       "  background-color: var(--sklearn-color-fitted-level-2);\n",
       "}\n",
       "\n",
       "/* Estimator label */\n",
       "\n",
       "#sk-container-id-2 div.sk-label label {\n",
       "  font-family: monospace;\n",
       "  font-weight: bold;\n",
       "  display: inline-block;\n",
       "  line-height: 1.2em;\n",
       "}\n",
       "\n",
       "#sk-container-id-2 div.sk-label-container {\n",
       "  text-align: center;\n",
       "}\n",
       "\n",
       "/* Estimator-specific */\n",
       "#sk-container-id-2 div.sk-estimator {\n",
       "  font-family: monospace;\n",
       "  border: 1px dotted var(--sklearn-color-border-box);\n",
       "  border-radius: 0.25em;\n",
       "  box-sizing: border-box;\n",
       "  margin-bottom: 0.5em;\n",
       "  /* unfitted */\n",
       "  background-color: var(--sklearn-color-unfitted-level-0);\n",
       "}\n",
       "\n",
       "#sk-container-id-2 div.sk-estimator.fitted {\n",
       "  /* fitted */\n",
       "  background-color: var(--sklearn-color-fitted-level-0);\n",
       "}\n",
       "\n",
       "/* on hover */\n",
       "#sk-container-id-2 div.sk-estimator:hover {\n",
       "  /* unfitted */\n",
       "  background-color: var(--sklearn-color-unfitted-level-2);\n",
       "}\n",
       "\n",
       "#sk-container-id-2 div.sk-estimator.fitted:hover {\n",
       "  /* fitted */\n",
       "  background-color: var(--sklearn-color-fitted-level-2);\n",
       "}\n",
       "\n",
       "/* Specification for estimator info (e.g. \"i\" and \"?\") */\n",
       "\n",
       "/* Common style for \"i\" and \"?\" */\n",
       "\n",
       ".sk-estimator-doc-link,\n",
       "a:link.sk-estimator-doc-link,\n",
       "a:visited.sk-estimator-doc-link {\n",
       "  float: right;\n",
       "  font-size: smaller;\n",
       "  line-height: 1em;\n",
       "  font-family: monospace;\n",
       "  background-color: var(--sklearn-color-background);\n",
       "  border-radius: 1em;\n",
       "  height: 1em;\n",
       "  width: 1em;\n",
       "  text-decoration: none !important;\n",
       "  margin-left: 1ex;\n",
       "  /* unfitted */\n",
       "  border: var(--sklearn-color-unfitted-level-1) 1pt solid;\n",
       "  color: var(--sklearn-color-unfitted-level-1);\n",
       "}\n",
       "\n",
       ".sk-estimator-doc-link.fitted,\n",
       "a:link.sk-estimator-doc-link.fitted,\n",
       "a:visited.sk-estimator-doc-link.fitted {\n",
       "  /* fitted */\n",
       "  border: var(--sklearn-color-fitted-level-1) 1pt solid;\n",
       "  color: var(--sklearn-color-fitted-level-1);\n",
       "}\n",
       "\n",
       "/* On hover */\n",
       "div.sk-estimator:hover .sk-estimator-doc-link:hover,\n",
       ".sk-estimator-doc-link:hover,\n",
       "div.sk-label-container:hover .sk-estimator-doc-link:hover,\n",
       ".sk-estimator-doc-link:hover {\n",
       "  /* unfitted */\n",
       "  background-color: var(--sklearn-color-unfitted-level-3);\n",
       "  color: var(--sklearn-color-background);\n",
       "  text-decoration: none;\n",
       "}\n",
       "\n",
       "div.sk-estimator.fitted:hover .sk-estimator-doc-link.fitted:hover,\n",
       ".sk-estimator-doc-link.fitted:hover,\n",
       "div.sk-label-container:hover .sk-estimator-doc-link.fitted:hover,\n",
       ".sk-estimator-doc-link.fitted:hover {\n",
       "  /* fitted */\n",
       "  background-color: var(--sklearn-color-fitted-level-3);\n",
       "  color: var(--sklearn-color-background);\n",
       "  text-decoration: none;\n",
       "}\n",
       "\n",
       "/* Span, style for the box shown on hovering the info icon */\n",
       ".sk-estimator-doc-link span {\n",
       "  display: none;\n",
       "  z-index: 9999;\n",
       "  position: relative;\n",
       "  font-weight: normal;\n",
       "  right: .2ex;\n",
       "  padding: .5ex;\n",
       "  margin: .5ex;\n",
       "  width: min-content;\n",
       "  min-width: 20ex;\n",
       "  max-width: 50ex;\n",
       "  color: var(--sklearn-color-text);\n",
       "  box-shadow: 2pt 2pt 4pt #999;\n",
       "  /* unfitted */\n",
       "  background: var(--sklearn-color-unfitted-level-0);\n",
       "  border: .5pt solid var(--sklearn-color-unfitted-level-3);\n",
       "}\n",
       "\n",
       ".sk-estimator-doc-link.fitted span {\n",
       "  /* fitted */\n",
       "  background: var(--sklearn-color-fitted-level-0);\n",
       "  border: var(--sklearn-color-fitted-level-3);\n",
       "}\n",
       "\n",
       ".sk-estimator-doc-link:hover span {\n",
       "  display: block;\n",
       "}\n",
       "\n",
       "/* \"?\"-specific style due to the `<a>` HTML tag */\n",
       "\n",
       "#sk-container-id-2 a.estimator_doc_link {\n",
       "  float: right;\n",
       "  font-size: 1rem;\n",
       "  line-height: 1em;\n",
       "  font-family: monospace;\n",
       "  background-color: var(--sklearn-color-background);\n",
       "  border-radius: 1rem;\n",
       "  height: 1rem;\n",
       "  width: 1rem;\n",
       "  text-decoration: none;\n",
       "  /* unfitted */\n",
       "  color: var(--sklearn-color-unfitted-level-1);\n",
       "  border: var(--sklearn-color-unfitted-level-1) 1pt solid;\n",
       "}\n",
       "\n",
       "#sk-container-id-2 a.estimator_doc_link.fitted {\n",
       "  /* fitted */\n",
       "  border: var(--sklearn-color-fitted-level-1) 1pt solid;\n",
       "  color: var(--sklearn-color-fitted-level-1);\n",
       "}\n",
       "\n",
       "/* On hover */\n",
       "#sk-container-id-2 a.estimator_doc_link:hover {\n",
       "  /* unfitted */\n",
       "  background-color: var(--sklearn-color-unfitted-level-3);\n",
       "  color: var(--sklearn-color-background);\n",
       "  text-decoration: none;\n",
       "}\n",
       "\n",
       "#sk-container-id-2 a.estimator_doc_link.fitted:hover {\n",
       "  /* fitted */\n",
       "  background-color: var(--sklearn-color-fitted-level-3);\n",
       "}\n",
       "</style><div id=\"sk-container-id-2\" class=\"sk-top-container\"><div class=\"sk-text-repr-fallback\"><pre>LogisticRegression(random_state=20)</pre><b>In a Jupyter environment, please rerun this cell to show the HTML representation or trust the notebook. <br />On GitHub, the HTML representation is unable to render, please try loading this page with nbviewer.org.</b></div><div class=\"sk-container\" hidden><div class=\"sk-item\"><div class=\"sk-estimator fitted sk-toggleable\"><input class=\"sk-toggleable__control sk-hidden--visually\" id=\"sk-estimator-id-2\" type=\"checkbox\" checked><label for=\"sk-estimator-id-2\" class=\"sk-toggleable__label fitted sk-toggleable__label-arrow fitted\">&nbsp;&nbsp;LogisticRegression<a class=\"sk-estimator-doc-link fitted\" rel=\"noreferrer\" target=\"_blank\" href=\"https://scikit-learn.org/1.5/modules/generated/sklearn.linear_model.LogisticRegression.html\">?<span>Documentation for LogisticRegression</span></a><span class=\"sk-estimator-doc-link fitted\">i<span>Fitted</span></span></label><div class=\"sk-toggleable__content fitted\"><pre>LogisticRegression(random_state=20)</pre></div> </div></div></div></div>"
      ],
      "text/plain": [
       "LogisticRegression(random_state=20)"
      ]
     },
     "execution_count": 22,
     "metadata": {},
     "output_type": "execute_result"
    }
   ],
   "source": [
    "\n",
    "LR_model  = LogisticRegression(\n",
    "    random_state=20,\n",
    "    max_iter=100\n",
    ")\n",
    "\n",
    "LR_model.fit(X_train, y_train)"
   ]
  },
  {
   "cell_type": "code",
   "execution_count": 23,
   "metadata": {},
   "outputs": [
    {
     "name": "stdout",
     "output_type": "stream",
     "text": [
      "Accuracy : 66.88%\n",
      "Recall : 99.87%\n",
      "Precision : 66.75%\n",
      "Specificity : 3.25%\n",
      "F1-score : 80.02%\n"
     ]
    }
   ],
   "source": [
    "y_predict_valid = LR_model.predict(X_valid)\n",
    "LR = metrics_result(y_valid, y_predict_valid)"
   ]
  },
  {
   "cell_type": "markdown",
   "metadata": {},
   "source": [
    "# Calibred Logistic Regression\n"
   ]
  },
  {
   "cell_type": "code",
   "execution_count": 24,
   "metadata": {
    "vscode": {
     "languageId": "ruby"
    }
   },
   "outputs": [],
   "source": [
    "calibrated_LR = CalibratedClassifierCV(\n",
    "    estimator = LR_model,\n",
    "    method = 'sigmoid', # 'sigmoid' or 'isotonic'\n",
    "    ensemble = True,\n",
    "    cv = 5,\n",
    "    n_jobs = -1,\n",
    ")"
   ]
  },
  {
   "cell_type": "code",
   "execution_count": 25,
   "metadata": {
    "vscode": {
     "languageId": "ruby"
    }
   },
   "outputs": [
    {
     "name": "stdout",
     "output_type": "stream",
     "text": [
      "Accuracy : 74.39%\n",
      "Recall : 100.00%\n",
      "Precision : 72.05%\n",
      "Specificity : 23.31%\n",
      "F1-score : 83.76%\n"
     ]
    }
   ],
   "source": [
    "calibrated_tree_classifier.fit(X_train, y_train)\n",
    "\n",
    "y_predict_valid = calibrated_classifier.predict(X_valid)\n",
    "metrics_result(y_valid, y_predict_valid)"
   ]
  },
  {
   "cell_type": "code",
   "execution_count": 21,
   "metadata": {},
   "outputs": [],
   "source": [
    "import os\n",
    "\n",
    "# Create the directory if it does not exist\n",
    "#os.makedirs('c:/Users/Melissa/Bureau/Bsc 2/ML/BITCOIN/ML-project/models/', exist_ok=True)\n",
    "\n",
    "#joblib.dump(RF_Model, 'c:/Users/Melissa/Bureau/Bsc 2/ML/BITCOIN/ML-project/models/RF_Model.pkl')"
   ]
  },
  {
   "cell_type": "markdown",
   "metadata": {},
   "source": []
  }
 ],
 "metadata": {
  "kernelspec": {
   "display_name": "ML-project",
   "language": "python",
   "name": "python3"
  },
  "language_info": {
   "codemirror_mode": {
    "name": "ipython",
    "version": 3
   },
   "file_extension": ".py",
   "mimetype": "text/x-python",
   "name": "python",
   "nbconvert_exporter": "python",
   "pygments_lexer": "ipython3",
   "version": "3.11.9"
  }
 },
 "nbformat": 4,
 "nbformat_minor": 2
}
